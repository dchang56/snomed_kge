{
 "cells": [
  {
   "cell_type": "code",
   "execution_count": 1,
   "metadata": {},
   "outputs": [
    {
     "data": {
      "text/plain": [
       "'\\nVisualization\\n\\nPerhaps we could do largeviz for kge, snomed2vec, cui2vec with hierarchical labels to show kge captures it better\\n\\nAlso try doing relations visualization with labels=oneormany,broad,specific\\n\\n\\n'"
      ]
     },
     "execution_count": 1,
     "metadata": {},
     "output_type": "execute_result"
    }
   ],
   "source": [
    "\n",
    "\"\"\"\n",
    "Visualization\n",
    "\n",
    "This notebook is just for generating relevant files for visualizing (mainly, labels)\n",
    "The actual visualization needs to be done in a .py script because jupyter can't hang\n",
    "\n",
    "Also, for visualization purposes, need to subset the embeddings to those that are included in the mappings\n",
    "\n",
    "\n",
    "Entity label types:\n",
    "1. specific semantic types (semantic structure)\n",
    "-semantic type visualization should only be done for a given broad semantic group, otherwise it's too cluttered\n",
    "-pick a couple of broad semantic groups to zoom in on\n",
    "2. broad semantic groups (semantic structure)\n",
    "3. depth in hierarchies (hierarchical structure)\n",
    "\n",
    "how to use hierarchy data to create depth (integar distance from root node) for each CUI:\n",
    "1. subset MRHIER to snomed CUIs\n",
    "2. count num of ancestors in path (average if multiple contexts, int)\n",
    "3. look at distribution of depths and see if we need to bin\n",
    "\n",
    "\n",
    "Relation labels:\n",
    "just read in relation2oneormany.json and relasion2broad.json and map using id2relation\n",
    "\"\"\""
   ]
  },
  {
   "cell_type": "code",
   "execution_count": 92,
   "metadata": {},
   "outputs": [],
   "source": [
    "import numpy as np\n",
    "import pandas as pd\n",
    "import pickle\n",
    "import os\n",
    "import json"
   ]
  },
  {
   "cell_type": "code",
   "execution_count": 93,
   "metadata": {},
   "outputs": [],
   "source": [
    "## Set up paths\n",
    "embeddings_dir = '/home/dc925/project/data/embeddings'\n",
    "snomed2vec_emb_file = os.path.join(embeddings_dir, 'snomed2vec/snomed2vec.csv')\n",
    "cui2vec_emb_file = os.path.join(embeddings_dir, 'cui2vec/cui2vec_pretrained.csv')"
   ]
  },
  {
   "cell_type": "code",
   "execution_count": 94,
   "metadata": {},
   "outputs": [],
   "source": [
    "## Entity labels\n",
    "\n",
    "# load in semantic_info.csv, which contains both specific semantic types and semantic groups\n",
    "semantic_df = pd.read_csv('/home/dc925/project/clinical_kge/semantic_info.csv', sep='\\t', index_col=0)\n",
    "semantic_df = semantic_df.drop_duplicates(subset='CUI')\n",
    "# Create mappings for semantic types and groups\n",
    "cui2sty = semantic_df.set_index('CUI')['STY'].to_dict()\n",
    "cui2sg = semantic_df.set_index('CUI')['SemGroup'].to_dict()\n",
    "# semantic_groups = ['CHEM', 'DISO', 'ANAT', 'PROC', 'CONC', 'DEVI', 'PHEN', 'PHYS']\n",
    "filtered_semantic_df = pd.read_csv('/home/dc925/project/clinical_kge/filtered_semantic_info.csv', sep='\\t', index_col=0)\n",
    "filtered_semantic_df = filtered_semantic_df.drop_duplicates(subset='CUI')\n",
    "fcui2sty = filtered_semantic_df.set_index('CUI')['STY'].to_dict()\n",
    "fcui2sg = filtered_semantic_df.set_index('CUI')['SemGroup'].to_dict()\n",
    "\n",
    "\n",
    "\n",
    "# Hierarchy; create mappings for depth\n",
    "# mrhier = pd.read_csv('/home/dc925/project/data/snomed/MRHIER.RRF', sep='|', header=None)[[0, 6]]\n",
    "# mrhier = mrhier.dropna()\n",
    "\n",
    "# mrhier.columns = ['CUI', 'PATH']\n",
    "# mrhier['depth'] = mrhier['PATH'].apply(lambda x: len(x.split('.')))\n",
    "\n",
    "# gp = mrhier.groupby('CUI')\n",
    "# gp = gp.mean()\n",
    "# depth = gp['depth'].apply(lambda x: round(x))\n",
    "# cui2depth = depth.to_dict()\n",
    "# cui2depth['C2720507'] = 1"
   ]
  },
  {
   "cell_type": "code",
   "execution_count": 95,
   "metadata": {},
   "outputs": [
    {
     "data": {
      "text/plain": [
       "345483"
      ]
     },
     "execution_count": 95,
     "metadata": {},
     "output_type": "execute_result"
    }
   ],
   "source": [
    "len(fcui2sg)"
   ]
  },
  {
   "cell_type": "code",
   "execution_count": 115,
   "metadata": {},
   "outputs": [],
   "source": [
    "# load in trained embeddings\n",
    "with open('/home/dc925/project/data/embeddings/kge/RotatE.pkl', 'rb') as fin:\n",
    "    model = pickle.load(fin)\n",
    "entity_embeddings = model.solver.entity_embeddings\n",
    "id2entity = model.graph.id2entity\n",
    "\n",
    "sty_labels = np.array([fcui2sty[id2entity[i]] for i in range(len(id2entity))])\n",
    "sg_labels = np.array([fcui2sg[id2entity[i]] for i in range(len(id2entity))])\n",
    "np.save('/home/dc925/project/data/embeddings/kge/sty_labels.npy', sty_labels)\n",
    "np.save('/home/dc925/project/data/embeddings/kge/sg_labels.npy', sg_labels)"
   ]
  },
  {
   "cell_type": "code",
   "execution_count": 116,
   "metadata": {},
   "outputs": [
    {
     "data": {
      "text/plain": [
       "(293879, 512)"
      ]
     },
     "execution_count": 116,
     "metadata": {},
     "output_type": "execute_result"
    }
   ],
   "source": [
    "entity_embeddings.shape"
   ]
  },
  {
   "cell_type": "code",
   "execution_count": 117,
   "metadata": {},
   "outputs": [
    {
     "data": {
      "text/plain": [
       "(array(['ANAT', 'CHEM', 'CONC', 'DEVI', 'DISO', 'PHEN', 'PHYS', 'PROC'],\n",
       "       dtype='<U4'),\n",
       " array([ 33939,  40309,  13706,  12648, 126804,   2935,   3894,  59644]))"
      ]
     },
     "execution_count": 117,
     "metadata": {},
     "output_type": "execute_result"
    }
   ],
   "source": [
    "np.unique(sg_labels, return_counts=True)"
   ]
  },
  {
   "cell_type": "code",
   "execution_count": 99,
   "metadata": {},
   "outputs": [],
   "source": [
    "# l, c = np.unique(sty_labels, return_counts=True)\n",
    "# dict(zip(l, c))"
   ]
  },
  {
   "cell_type": "code",
   "execution_count": 100,
   "metadata": {},
   "outputs": [
    {
     "data": {
      "text/plain": [
       "\"\\nPROC\\n'Therapeutic or Preventive Procedure': 33535\\n'Laboratory Procedure': 9745\\n'Health Care Activity': 6678\\n'Educational Activity': 527\\n'Diagnostic Procedure': 9126\\n\\nCHEM\\n'Pharmacologic Substance': 8334\\n'Organic Chemical': 8483\\n'Amino Acid, Peptide, or Protein': 10540\\n'Clinical Drug': 9475\\n'Immunologic Factor': 1187\\n'Indicator, Reagent, or Diagnostic Aid': 846\\n\\n\""
      ]
     },
     "execution_count": 100,
     "metadata": {},
     "output_type": "execute_result"
    }
   ],
   "source": [
    "\"\"\"\n",
    "PROC\n",
    "'Therapeutic or Preventive Procedure': 33535\n",
    "'Laboratory Procedure': 9745\n",
    "'Health Care Activity': 6678\n",
    "'Educational Activity': 527\n",
    "'Diagnostic Procedure': 9126\n",
    "\n",
    "CHEM\n",
    "'Pharmacologic Substance': 8334\n",
    "'Organic Chemical': 8483\n",
    "'Amino Acid, Peptide, or Protein': 10540\n",
    "'Clinical Drug': 9475\n",
    "'Immunologic Factor': 1187\n",
    "'Indicator, Reagent, or Diagnostic Aid': 846\n",
    "\n",
    "\"\"\""
   ]
  },
  {
   "cell_type": "code",
   "execution_count": 101,
   "metadata": {},
   "outputs": [],
   "source": [
    "## Cui2vec\n",
    "cui2vec = pd.read_csv(cui2vec_emb_file, index_col=0)\n",
    "new_indexes = cui2vec.index[cui2vec.index.isin(fcui2sg.keys())]\n",
    "# new_indexes = new_indexes[new_indexes.isin(cui2sg)]\n",
    "sty_labels = np.array([cui2sty[cui] for cui in new_indexes])\n",
    "sg_labels = np.array([fcui2sg[cui] for cui in new_indexes])\n",
    "# depth_labels = np.array([cui2depth[cui] for cui in new_indexes])\n",
    "cui2vec = cui2vec.loc[new_indexes].to_numpy()\n",
    "np.save('/home/dc925/project/data/embeddings/cui2vec/cui2vec.npy', cui2vec)\n",
    "np.save('/home/dc925/project/data/embeddings/cui2vec/sty_labels.npy', sty_labels)\n",
    "np.save('/home/dc925/project/data/embeddings/cui2vec/sg_labels.npy', sg_labels)"
   ]
  },
  {
   "cell_type": "code",
   "execution_count": 102,
   "metadata": {},
   "outputs": [
    {
     "data": {
      "text/plain": [
       "(45597, 500)"
      ]
     },
     "execution_count": 102,
     "metadata": {},
     "output_type": "execute_result"
    }
   ],
   "source": [
    "cui2vec.shape"
   ]
  },
  {
   "cell_type": "code",
   "execution_count": 103,
   "metadata": {},
   "outputs": [
    {
     "data": {
      "text/plain": [
       "(45597,)"
      ]
     },
     "execution_count": 103,
     "metadata": {},
     "output_type": "execute_result"
    }
   ],
   "source": [
    "sg_labels.shape"
   ]
  },
  {
   "cell_type": "code",
   "execution_count": 104,
   "metadata": {},
   "outputs": [
    {
     "data": {
      "text/plain": [
       "array(['ANAT', 'CHEM', 'CONC', 'DEVI', 'DISO', 'PHEN', 'PHYS', 'PROC'],\n",
       "      dtype='<U4')"
      ]
     },
     "execution_count": 104,
     "metadata": {},
     "output_type": "execute_result"
    }
   ],
   "source": [
    "np.unique(sg_labels)"
   ]
  },
  {
   "cell_type": "code",
   "execution_count": 105,
   "metadata": {},
   "outputs": [],
   "source": [
    "## Snomed2vec\n",
    "snomed2vec = pd.read_csv(snomed2vec_emb_file, sep='\\t',index_col=0, header=None)\n",
    "new_indexes = snomed2vec.index[snomed2vec.index.isin(fcui2sg.keys())]\n",
    "sty_labels = np.array([cui2sty[cui] for cui in new_indexes])\n",
    "sg_labels = np.array([fcui2sg[cui] for cui in new_indexes])\n",
    "snomed2vec = snomed2vec.loc[new_indexes].to_numpy()\n",
    "np.save('/home/dc925/project/data/embeddings/snomed2vec/snomed2vec.npy', snomed2vec)\n",
    "np.save('/home/dc925/project/data/embeddings/snomed2vec/sty_labels.npy', sty_labels)\n",
    "np.save('/home/dc925/project/data/embeddings/snomed2vec/sg_labels.npy', sg_labels)"
   ]
  },
  {
   "cell_type": "code",
   "execution_count": 106,
   "metadata": {},
   "outputs": [
    {
     "data": {
      "text/plain": [
       "(189882, 200)"
      ]
     },
     "execution_count": 106,
     "metadata": {},
     "output_type": "execute_result"
    }
   ],
   "source": [
    "snomed2vec.shape"
   ]
  },
  {
   "cell_type": "code",
   "execution_count": 107,
   "metadata": {},
   "outputs": [
    {
     "data": {
      "text/plain": [
       "(189882,)"
      ]
     },
     "execution_count": 107,
     "metadata": {},
     "output_type": "execute_result"
    }
   ],
   "source": [
    "sg_labels.shape"
   ]
  },
  {
   "cell_type": "code",
   "execution_count": 108,
   "metadata": {},
   "outputs": [
    {
     "data": {
      "text/plain": [
       "(array(['ANAT', 'CHEM', 'DISO', 'PROC'], dtype='<U4'),\n",
       " array([17962, 28988, 99295, 43637]))"
      ]
     },
     "execution_count": 108,
     "metadata": {},
     "output_type": "execute_result"
    }
   ],
   "source": [
    "np.unique(sg_labels, return_counts=True)"
   ]
  },
  {
   "cell_type": "code",
   "execution_count": 109,
   "metadata": {},
   "outputs": [],
   "source": [
    "## Relation labels\n",
    "\n",
    "# load in relation2oneormany.json and relation2broad.json and relation embeddings\n",
    "with open('/home/dc925/project/clinical_kge/data/case4/relation2broad.json', 'r') as fin:\n",
    "    relation2broad = json.load(fin)\n",
    "with open('/home/dc925/project/clinical_kge/data/case4/relation2oneormany.json', 'r') as fin:\n",
    "    relation2oneormany = json.load(fin)\n",
    "with open('/home/dc925/project/clinical_kge/data/case4/relation2sg_oneormany.json', 'r') as fin:\n",
    "    relation2sg_oneormany = json.load(fin)\n",
    "\n",
    "relation_embeddings = model.solver.relation_embeddings\n",
    "id2relation = model.graph.id2relation\n",
    "broad_labels = np.array([relation2broad[id2relation[i]] for i in range(len(id2relation))])\n",
    "oneormany_labels = np.array([relation2oneormany[id2relation[i]] for i in range(len(id2relation))])\n",
    "sg_oneormany_labels = np.array([relation2sg_oneormany[id2relation[i]] for i in range(len(id2relation))])"
   ]
  },
  {
   "cell_type": "code",
   "execution_count": 110,
   "metadata": {},
   "outputs": [
    {
     "data": {
      "text/plain": [
       "(162, 512)"
      ]
     },
     "execution_count": 110,
     "metadata": {},
     "output_type": "execute_result"
    }
   ],
   "source": [
    "relation_embeddings.shape"
   ]
  },
  {
   "cell_type": "code",
   "execution_count": 111,
   "metadata": {},
   "outputs": [
    {
     "data": {
      "text/plain": [
       "(162,)"
      ]
     },
     "execution_count": 111,
     "metadata": {},
     "output_type": "execute_result"
    }
   ],
   "source": [
    "broad_labels.shape"
   ]
  },
  {
   "cell_type": "code",
   "execution_count": 112,
   "metadata": {},
   "outputs": [
    {
     "data": {
      "text/plain": [
       "(162,)"
      ]
     },
     "execution_count": 112,
     "metadata": {},
     "output_type": "execute_result"
    }
   ],
   "source": [
    "oneormany_labels.shape"
   ]
  },
  {
   "cell_type": "code",
   "execution_count": 113,
   "metadata": {},
   "outputs": [
    {
     "data": {
      "text/plain": [
       "(162,)"
      ]
     },
     "execution_count": 113,
     "metadata": {},
     "output_type": "execute_result"
    }
   ],
   "source": [
    "sg_oneormany_labels.shape"
   ]
  },
  {
   "cell_type": "code",
   "execution_count": 114,
   "metadata": {},
   "outputs": [],
   "source": [
    "np.save('/home/dc925/project/data/embeddings/kge/broad_labels.npy', broad_labels)\n",
    "np.save('/home/dc925/project/data/embeddings/kge/oneormany_labels.npy', oneormany_labels)\n",
    "np.save('/home/dc925/project/data/embeddings/kge/sg_oneormany_labels.npy', sg_oneormany_labels)"
   ]
  },
  {
   "cell_type": "code",
   "execution_count": null,
   "metadata": {},
   "outputs": [],
   "source": []
  }
 ],
 "metadata": {
  "kernelspec": {
   "display_name": "Python 3",
   "language": "python",
   "name": "python3"
  },
  "language_info": {
   "codemirror_mode": {
    "name": "ipython",
    "version": 3
   },
   "file_extension": ".py",
   "mimetype": "text/x-python",
   "name": "python",
   "nbconvert_exporter": "python",
   "pygments_lexer": "ipython3",
   "version": "3.7.7"
  }
 },
 "nbformat": 4,
 "nbformat_minor": 4
}
