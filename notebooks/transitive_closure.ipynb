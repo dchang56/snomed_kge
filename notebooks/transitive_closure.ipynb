{
 "cells": [
  {
   "cell_type": "code",
   "execution_count": 41,
   "metadata": {},
   "outputs": [],
   "source": [
    "import os\n",
    "import pandas as pd"
   ]
  },
  {
   "cell_type": "code",
   "execution_count": 42,
   "metadata": {},
   "outputs": [
    {
     "name": "stderr",
     "output_type": "stream",
     "text": [
      "/home/dc925/miniconda3/envs/pytorch/lib/python3.6/site-packages/IPython/core/interactiveshell.py:3058: DtypeWarning: Columns (13) have mixed types. Specify dtype option on import or set low_memory=False.\n",
      "  interactivity=interactivity, compiler=compiler, result=result)\n"
     ]
    }
   ],
   "source": [
    "transitive_closure = pd.read_csv('/home/dc925/project/data/snomed/transitive_closure.txt', sep='\\t')\n",
    "mrconso = pd.read_csv('/home/dc925/project/data/snomed/MRCONSO.RRF', sep='|', header=None)"
   ]
  },
  {
   "cell_type": "code",
   "execution_count": 45,
   "metadata": {},
   "outputs": [],
   "source": [
    "transitive_closure['superTypeId'] = transitive_closure['superTypeId'].apply(lambda x: str(x))\n",
    "transitive_closure['subTypeId'] = transitive_closure['subTypeId'].apply(lambda x: str(x))"
   ]
  },
  {
   "cell_type": "code",
   "execution_count": 46,
   "metadata": {},
   "outputs": [],
   "source": [
    "transitive_closure[transitive_closure.duplicated()];"
   ]
  },
  {
   "cell_type": "code",
   "execution_count": 47,
   "metadata": {},
   "outputs": [],
   "source": [
    "mrconso;"
   ]
  },
  {
   "cell_type": "code",
   "execution_count": 64,
   "metadata": {},
   "outputs": [],
   "source": [
    "df = mrconso[[0,13]]\n",
    "df.columns  = ['CUI', 'SCUI']\n",
    "df = df[-df.duplicated()]\n",
    "df['SCUI'] = df['SCUI'].apply(lambda x: str(x))"
   ]
  },
  {
   "cell_type": "code",
   "execution_count": 65,
   "metadata": {},
   "outputs": [
    {
     "data": {
      "text/html": [
       "<div>\n",
       "<style scoped>\n",
       "    .dataframe tbody tr th:only-of-type {\n",
       "        vertical-align: middle;\n",
       "    }\n",
       "\n",
       "    .dataframe tbody tr th {\n",
       "        vertical-align: top;\n",
       "    }\n",
       "\n",
       "    .dataframe thead th {\n",
       "        text-align: right;\n",
       "    }\n",
       "</style>\n",
       "<table border=\"1\" class=\"dataframe\">\n",
       "  <thead>\n",
       "    <tr style=\"text-align: right;\">\n",
       "      <th></th>\n",
       "      <th>CUI</th>\n",
       "      <th>SCUI</th>\n",
       "    </tr>\n",
       "  </thead>\n",
       "  <tbody>\n",
       "    <tr>\n",
       "      <td>0</td>\n",
       "      <td>C0000039</td>\n",
       "      <td>102735002</td>\n",
       "    </tr>\n",
       "    <tr>\n",
       "      <td>2</td>\n",
       "      <td>C0000052</td>\n",
       "      <td>58488005</td>\n",
       "    </tr>\n",
       "    <tr>\n",
       "      <td>7</td>\n",
       "      <td>C0000097</td>\n",
       "      <td>285407008</td>\n",
       "    </tr>\n",
       "    <tr>\n",
       "      <td>9</td>\n",
       "      <td>C0000102</td>\n",
       "      <td>13579002</td>\n",
       "    </tr>\n",
       "    <tr>\n",
       "      <td>14</td>\n",
       "      <td>C0000163</td>\n",
       "      <td>112116001</td>\n",
       "    </tr>\n",
       "    <tr>\n",
       "      <td>...</td>\n",
       "      <td>...</td>\n",
       "      <td>...</td>\n",
       "    </tr>\n",
       "    <tr>\n",
       "      <td>1479246</td>\n",
       "      <td>C4759626</td>\n",
       "      <td>11309241000119105</td>\n",
       "    </tr>\n",
       "    <tr>\n",
       "      <td>1479249</td>\n",
       "      <td>C4759627</td>\n",
       "      <td>11313401000119108</td>\n",
       "    </tr>\n",
       "    <tr>\n",
       "      <td>1479252</td>\n",
       "      <td>C4759628</td>\n",
       "      <td>11313361000119104</td>\n",
       "    </tr>\n",
       "    <tr>\n",
       "      <td>1479255</td>\n",
       "      <td>C4759629</td>\n",
       "      <td>447562003</td>\n",
       "    </tr>\n",
       "    <tr>\n",
       "      <td>1479256</td>\n",
       "      <td>C4759630</td>\n",
       "      <td>6011000124106</td>\n",
       "    </tr>\n",
       "  </tbody>\n",
       "</table>\n",
       "<p>497994 rows × 2 columns</p>\n",
       "</div>"
      ],
      "text/plain": [
       "              CUI               SCUI\n",
       "0        C0000039          102735002\n",
       "2        C0000052           58488005\n",
       "7        C0000097          285407008\n",
       "9        C0000102           13579002\n",
       "14       C0000163          112116001\n",
       "...           ...                ...\n",
       "1479246  C4759626  11309241000119105\n",
       "1479249  C4759627  11313401000119108\n",
       "1479252  C4759628  11313361000119104\n",
       "1479255  C4759629          447562003\n",
       "1479256  C4759630      6011000124106\n",
       "\n",
       "[497994 rows x 2 columns]"
      ]
     },
     "execution_count": 65,
     "metadata": {},
     "output_type": "execute_result"
    }
   ],
   "source": [
    "df"
   ]
  },
  {
   "cell_type": "code",
   "execution_count": null,
   "metadata": {},
   "outputs": [],
   "source": []
  },
  {
   "cell_type": "code",
   "execution_count": 67,
   "metadata": {},
   "outputs": [],
   "source": [
    "snomed_concepts_in_mrconso = set(df['SCUI'])"
   ]
  },
  {
   "cell_type": "code",
   "execution_count": 68,
   "metadata": {},
   "outputs": [],
   "source": [
    "snomed_concepts_in_mrconso;"
   ]
  },
  {
   "cell_type": "code",
   "execution_count": 69,
   "metadata": {},
   "outputs": [],
   "source": [
    "snomed_source_concepts= set(transitive_closure['superTypeId']) | set(transitive_closure['subTypeId'])"
   ]
  },
  {
   "cell_type": "code",
   "execution_count": 70,
   "metadata": {},
   "outputs": [
    {
     "data": {
      "text/plain": [
       "473759"
      ]
     },
     "execution_count": 70,
     "metadata": {},
     "output_type": "execute_result"
    }
   ],
   "source": [
    "len(snomed_concepts_in_mrconso)"
   ]
  },
  {
   "cell_type": "code",
   "execution_count": 71,
   "metadata": {},
   "outputs": [
    {
     "data": {
      "text/plain": [
       "357405"
      ]
     },
     "execution_count": 71,
     "metadata": {},
     "output_type": "execute_result"
    }
   ],
   "source": [
    "len(snomed_source_concepts)"
   ]
  },
  {
   "cell_type": "code",
   "execution_count": 74,
   "metadata": {},
   "outputs": [
    {
     "data": {
      "text/plain": [
       "353045"
      ]
     },
     "execution_count": 74,
     "metadata": {},
     "output_type": "execute_result"
    }
   ],
   "source": [
    "intersected_scui = snomed_concepts_in_mrconso & snomed_source_concepts\n",
    "len(intersected_scui)"
   ]
  },
  {
   "cell_type": "code",
   "execution_count": 75,
   "metadata": {},
   "outputs": [],
   "source": [
    "transitive_closure = transitive_closure[(transitive_closure['superTypeId'].isin(intersected_scui)) & (transitive_closure['subTypeId'].isin(intersected_scui))]"
   ]
  },
  {
   "cell_type": "code",
   "execution_count": 76,
   "metadata": {},
   "outputs": [],
   "source": [
    "df = df[df['SCUI'].isin(intersected_scui)]"
   ]
  },
  {
   "cell_type": "code",
   "execution_count": 77,
   "metadata": {},
   "outputs": [],
   "source": [
    "scui2cui = df.set_index('SCUI').to_dict()['CUI']"
   ]
  },
  {
   "cell_type": "code",
   "execution_count": 82,
   "metadata": {},
   "outputs": [],
   "source": [
    "transitive_closure_final = pd.concat([transitive_closure['subTypeId'].apply(lambda x: scui2cui[x]), transitive_closure['superTypeId'].apply(lambda x: scui2cui[x])], axis=1)\n",
    "\n",
    "\n"
   ]
  },
  {
   "cell_type": "code",
   "execution_count": 84,
   "metadata": {},
   "outputs": [],
   "source": [
    "transitive_closure_final['RELA'] = 'isa'"
   ]
  },
  {
   "cell_type": "code",
   "execution_count": 86,
   "metadata": {},
   "outputs": [],
   "source": [
    "transitive_closure_final = transitive_closure_final[['subTypeId','RELA','superTypeId']]"
   ]
  },
  {
   "cell_type": "code",
   "execution_count": 89,
   "metadata": {},
   "outputs": [],
   "source": [
    "transitive_closure_final.to_csv('transitive_closure_full.txt', sep='\\t', header=None, index=None)"
   ]
  },
  {
   "cell_type": "code",
   "execution_count": null,
   "metadata": {},
   "outputs": [],
   "source": []
  }
 ],
 "metadata": {
  "kernelspec": {
   "display_name": "Python 3",
   "language": "python",
   "name": "python3"
  },
  "language_info": {
   "codemirror_mode": {
    "name": "ipython",
    "version": 3
   },
   "file_extension": ".py",
   "mimetype": "text/x-python",
   "name": "python",
   "nbconvert_exporter": "python",
   "pygments_lexer": "ipython3",
   "version": "3.7.7"
  }
 },
 "nbformat": 4,
 "nbformat_minor": 4
}
